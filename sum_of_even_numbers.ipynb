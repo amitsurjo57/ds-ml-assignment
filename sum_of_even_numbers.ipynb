{
  "nbformat": 4,
  "nbformat_minor": 0,
  "metadata": {
    "colab": {
      "private_outputs": true,
      "provenance": [],
      "authorship_tag": "ABX9TyMoE+NO+MmSNo9R3l/FvIyy",
      "include_colab_link": true
    },
    "kernelspec": {
      "name": "python3",
      "display_name": "Python 3"
    },
    "language_info": {
      "name": "python"
    }
  },
  "cells": [
    {
      "cell_type": "markdown",
      "metadata": {
        "id": "view-in-github",
        "colab_type": "text"
      },
      "source": [
        "<a href=\"https://colab.research.google.com/github/amitsurjo57/ds-ml-assignment/blob/main/sum_of_even_numbers.ipynb\" target=\"_parent\"><img src=\"https://colab.research.google.com/assets/colab-badge.svg\" alt=\"Open In Colab\"/></a>"
      ]
    },
    {
      "cell_type": "code",
      "execution_count": null,
      "metadata": {
        "id": "XCdmrNNDkdGl"
      },
      "outputs": [],
      "source": [
        "sum = 0\n",
        "\n",
        "for num in range(1, 101):\n",
        "  if(num % 2 == 0):\n",
        "    sum += num\n",
        "\n",
        "print(f\"Sum of even numbers between 1 and 100 is: {sum}\")"
      ]
    }
  ]
}