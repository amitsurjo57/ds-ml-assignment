{
  "nbformat": 4,
  "nbformat_minor": 0,
  "metadata": {
    "colab": {
      "private_outputs": true,
      "provenance": [],
      "authorship_tag": "ABX9TyP6mYfCHQjeAeJvZkQ+m3Uo",
      "include_colab_link": true
    },
    "kernelspec": {
      "name": "python3",
      "display_name": "Python 3"
    },
    "language_info": {
      "name": "python"
    }
  },
  "cells": [
    {
      "cell_type": "markdown",
      "metadata": {
        "id": "view-in-github",
        "colab_type": "text"
      },
      "source": [
        "<a href=\"https://colab.research.google.com/github/amitsurjo57/ds-ml-assignment/blob/main/arithmetic.ipynb\" target=\"_parent\"><img src=\"https://colab.research.google.com/assets/colab-badge.svg\" alt=\"Open In Colab\"/></a>"
      ]
    },
    {
      "cell_type": "code",
      "execution_count": null,
      "metadata": {
        "id": "q3iJ51M4fbeG"
      },
      "outputs": [],
      "source": [
        "def add(a, b):\n",
        "  print(f\"Addition: {a+b}\")\n",
        "\n",
        "def sub(a, b):\n",
        "  print(f\"Substraction: {a-b}\")\n",
        "\n",
        "def mul(a, b):\n",
        "  print(f\"Multiplication: {a*b}\")\n",
        "\n",
        "def div(a, b):\n",
        "  print(f\"Division: {a/b}\")\n",
        "\n",
        "\n",
        "\n",
        "num1 = int(input(\"Enter first number: \"))\n",
        "num2 = int(input(\"Enter second number: \"))\n",
        "\n",
        "opr = input(\"Select a operator (+, -, * /): \")\n",
        "\n",
        "if opr == '+':\n",
        "  add(num1, num2)\n",
        "\n",
        "elif opr == '-':\n",
        "  sub(num1, num2)\n",
        "\n",
        "elif opr == '*':\n",
        "  mul(num1, num2)\n",
        "\n",
        "elif opr == '/':\n",
        "  div(num1, num2)\n",
        "\n",
        "else:\n",
        "  print(\"Invalid operator\")\n"
      ]
    }
  ]
}